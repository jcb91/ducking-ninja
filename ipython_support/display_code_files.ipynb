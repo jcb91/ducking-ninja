{
 "metadata": {
  "name": "",
  "signature": "sha256:813c896ed63ac0292194c943f26e2f2c37d37ef79262da177b5a173bc8fc874e"
 },
 "nbformat": 3,
 "nbformat_minor": 0,
 "worksheets": [
  {
   "cells": [
    {
     "cell_type": "markdown",
     "metadata": {},
     "source": [
      "I'd like to render code as github-flavoured markdown. I'm not sure why you can't do this already, with a Markdown-type output object like the Math one, but there we are. The Math object doesn't fit the bill, as it's a Latex representation:"
     ]
    },
    {
     "cell_type": "code",
     "collapsed": false,
     "input": [
      "from IPython.core.display import Math\n",
      "import inspect\n",
      "print inspect.getsource(Math)"
     ],
     "language": "python",
     "metadata": {},
     "outputs": [
      {
       "output_type": "stream",
       "stream": "stdout",
       "text": [
        "class Math(TextDisplayObject):\n",
        "\n",
        "    def _repr_latex_(self):\n",
        "        s = self.data.strip('$')\n",
        "        return \"$$%s$$\" % s\n",
        "\n"
       ]
      }
     ],
     "prompt_number": 3
    },
    {
     "cell_type": "markdown",
     "metadata": {},
     "source": [
      "In newer versions (which? Not sure, but see  [here](https://github.com/ipython/ipython/commit/c33a6dfb2d63abfe0eef6b534e95ac7313964507)) of IPython, there's a Markdown display object defined, but not in mine :("
     ]
    },
    {
     "cell_type": "code",
     "collapsed": false,
     "input": [
      "import IPython\n",
      "print IPython.__version__\n",
      "from IPython.core.display import Markdown"
     ],
     "language": "python",
     "metadata": {},
     "outputs": [
      {
       "output_type": "stream",
       "stream": "stdout",
       "text": [
        "2.1.0\n"
       ]
      },
      {
       "ename": "ImportError",
       "evalue": "cannot import name Markdown",
       "output_type": "pyerr",
       "traceback": [
        "\u001b[1;31m---------------------------------------------------------------------------\u001b[0m\n\u001b[1;31mImportError\u001b[0m                               Traceback (most recent call last)",
        "\u001b[1;32m<ipython-input-10-aa6d549e7109>\u001b[0m in \u001b[0;36m<module>\u001b[1;34m()\u001b[0m\n\u001b[0;32m      1\u001b[0m \u001b[1;32mimport\u001b[0m \u001b[0mIPython\u001b[0m\u001b[1;33m\u001b[0m\u001b[0m\n\u001b[0;32m      2\u001b[0m \u001b[1;32mprint\u001b[0m \u001b[0mIPython\u001b[0m\u001b[1;33m.\u001b[0m\u001b[0m__version__\u001b[0m\u001b[1;33m\u001b[0m\u001b[0m\n\u001b[1;32m----> 3\u001b[1;33m \u001b[1;32mfrom\u001b[0m \u001b[0mIPython\u001b[0m\u001b[1;33m.\u001b[0m\u001b[0mcore\u001b[0m\u001b[1;33m.\u001b[0m\u001b[0mdisplay\u001b[0m \u001b[1;32mimport\u001b[0m \u001b[0mMarkdown\u001b[0m\u001b[1;33m\u001b[0m\u001b[0m\n\u001b[0m",
        "\u001b[1;31mImportError\u001b[0m: cannot import name Markdown"
       ]
      }
     ],
     "prompt_number": 10
    },
    {
     "cell_type": "markdown",
     "metadata": {},
     "source": [
      "So, define some functions of our own to do it for us:"
     ]
    },
    {
     "cell_type": "code",
     "collapsed": false,
     "input": [
      "import json\n",
      "from markdown import markdown\n",
      "from IPython.core.display import display, Javascript, _safe_exists\n",
      "\n",
      "def render_markdown_output(markdown_string):\n",
      "    # use json to ensure the string becomes quoted as a valid js string\n",
      "    markdown_txt = json.dumps(markdown_string)\n",
      "    javascript = \"\"\"\\\n",
      "var mdcell = new IPython.MarkdownCell();\n",
      "mdcell.create_element();\n",
      "mdcell.set_text({});\n",
      "mdcell.render();\n",
      "var text = $(mdcell.element).find('.text_cell_render');\n",
      "$(element).append(text);\n",
      "$(element).removeClass('output_javascript').addClass('output_markdown');\n",
      "\"\"\".format(markdown_txt)\n",
      "    display(Javascript(data=javascript))\n",
      "\n",
      "\n",
      "def display_code_file(data=None, language='python',\n",
      "                      preamble='', postamble='', filename=None):\n",
      "    markdown_string = u\"\"\n",
      "    if preamble:\n",
      "        markdown_string = u\"{}\\n\".format(preamble)\n",
      "    if _safe_exists(data) and filename is None:\n",
      "        filename = data\n",
      "    if filename is not None:\n",
      "        with open(filename, 'r') as f:\n",
      "            data = f.read()\n",
      "    if data is None:\n",
      "        raise ValueError(\"No data found. Expecting valid filename, or data.\")  \n",
      "    if filename is not None:\n",
      "        markdown_string += u\"**`{}`**\\n\".format(filename)\n",
      "    markdown_string += u\"\\n----\\n\\n```{}\\n{}```\".format(language, data)\n",
      "    if postamble:\n",
      "        markdown_string += u\"\\n{}\".format(postamble)\n",
      "    render_markdown_output(markdown_string)\n",
      "\n",
      "\n",
      "def display_css_file(data):\n",
      "    display_code_file(data, 'css')\n",
      "\n",
      "\n",
      "def display_js_file(data):\n",
      "    display_code_file(data, 'javascript')\n",
      "\n",
      "\n",
      "def display_matlab_file(data):\n",
      "    display_code_file(data, 'matlab')"
     ],
     "language": "python",
     "metadata": {},
     "outputs": [],
     "prompt_number": 37
    },
    {
     "cell_type": "code",
     "collapsed": false,
     "input": [
      "display_code_file(r'..\\code\\run.py')"
     ],
     "language": "python",
     "metadata": {},
     "outputs": [
      {
       "javascript": [
        "var mdcell = new IPython.MarkdownCell();\n",
        "mdcell.create_element();\n",
        "mdcell.set_text(\"**`..\\\\code\\\\run.py`**\\n\\n----\\n\\n```python\\n# -*- coding: utf-8 -*-\\n\\n\\ndef main():\\n    import tools.logs\\n    from ui import splash_screen\\n\\n    splash_screen.open()\\n\\n    try:\\n        from custom_setup import _get_root_window_kwargs\\n        root_window_kwargs = _get_root_window_kwargs()\\n    except ImportError:\\n        root_window_kwargs = {}\\n\\n    app = tools.App()\\n    app.load_hardware(patch_all=tools.is_dev_machine)\\n    app.load_gui(True, **root_window_kwargs)\\n\\n    try:\\n        from custom_setup import setup\\n    except ImportError:\\n        import os\\n        tools.logs.get_module_logger().info(\\n            \\\"No custom setup found. See '%s' for details.\\\",\\n            os.path.join(tools.project_dir, 'custom_setup_example.py'))\\n    else:\\n        app.run_console_script(setup)\\n\\n    splash_screen.close()\\n\\n    app.run_gui()\\n\\n    try:\\n        from custom_setup import shutdown\\n    except ImportError:\\n        pass\\n    else:\\n        app.run_console_script(shutdown)\\n\\n\\nif __name__ == '__main__':\\n    main()\\n```\");\n",
        "mdcell.render();\n",
        "var text = $(mdcell.element).find('.text_cell_render');\n",
        "$(element).append(text);\n",
        "$(element).removeClass('output_javascript').addClass('output_markdown');\n"
       ],
       "metadata": {},
       "output_type": "display_data",
       "text": [
        "<IPython.core.display.Javascript at 0x376a0b0>"
       ]
      }
     ],
     "prompt_number": 38
    },
    {
     "cell_type": "code",
     "collapsed": false,
     "input": [
      "ls ..\\code\\maps\\example_web_server_docs\\"
     ],
     "language": "python",
     "metadata": {},
     "outputs": [
      {
       "output_type": "stream",
       "stream": "stdout",
       "text": [
        " Volume in drive S is shared\n",
        " Volume Serial Number is 5AEA-DA4F\n",
        "\n",
        " Directory of S:\\Lab6\\code\\maps\\example_web_server_docs\n",
        "\n",
        "10/03/2015  19:44    <DIR>          .\n",
        "11/03/2015  11:32    <DIR>          ..\n",
        "10/03/2015  19:44             3,801 add_jigna_elements.js\n",
        "10/03/2015  19:44             6,158 do_map_setup.js\n",
        "10/03/2015  19:44    <DIR>          example_map_dir\n",
        "10/03/2015  19:44             8,830 jcb91_setup_map.js\n",
        "10/03/2015  19:44             1,810 Jcb91Scale.js\n",
        "10/03/2015  19:44             1,117 mappage.css\n",
        "               5 File(s)         21,716 bytes\n",
        "               3 Dir(s)  2,151,557,869,568 bytes free\n"
       ]
      }
     ],
     "prompt_number": 29
    },
    {
     "cell_type": "code",
     "collapsed": false,
     "input": [
      "display_css_file(r'..\\code\\maps\\example_web_server_docs\\mappage.css')"
     ],
     "language": "python",
     "metadata": {},
     "outputs": [
      {
       "javascript": [
        "var mdcell = new IPython.MarkdownCell();\n",
        "mdcell.create_element();\n",
        "mdcell.set_text(\"**`..\\\\code\\\\maps\\\\example_web_server_docs\\\\mappage.css`**\\n\\n----\\n\\n```css\\n/** \\n * Styles for elements on my map pages\\n */\\n\\np, a, div, h1, h2, h3, h4, h5, h6 {\\n  font-family: \\\"Helvetica Neue\\\", Arial, Helvetica, sans-serif;\\n}\\n\\nul#map-markers {\\n    -webkit-margin-before: 0;\\n}\\n\\n$sidebar-width: 30%;\\n\\nhtml, body {\\n    height: 100%;\\n    min-height: 100%;\\n}\\n\\n.jcb91-map,\\n#map, #map-properties\\n{\\n  padding: 0;\\n  margin:  0;\\n  height: 100%;\\n  max-height: 100%;\\n}\\n\\n#map , #map-properties\\n{\\n  position: absolute;\\n  top: 0;\\n  bottom: 0;\\n}\\n\\n#map {\\n    left: 20%;\\n    right: 0;\\n}\\n\\n#map-properties\\n{\\n    left: 0;\\n    width: 20%;\\n}\\n#map-properties #map-properties-inner{\\n    padding: 0.5em;\\n}\\n\\n#map-properties #map-markers-div\\n{\\n    overflow: auto;\\n}\\n\\n#map-title h2 {\\n    padding: 0;\\n    margin: 0;\\n}\\n\\n#map-mousecoord,#map-mouseclickcoord \\n{\\n    padding: 0 0 1em 0;\\n}\\n\\n#map-mousecoord *, #map-mouseclickcoord * \\n{\\n    -webkit-margin-before: 0;\\n    -webkit-margin-after: 0;\\n}\\n\\n.leaflet-control-zoom a {\\n    color:transparent;\\n}\\n\\n.leaflet-container,\\n.leaflet-control-minimap {\\n  background:#dcc;\\n}\\n\\n.hidden {\\n  display: none;\\n}```\");\n",
        "mdcell.render();\n",
        "var text = $(mdcell.element).find('.text_cell_render');\n",
        "$(element).append(text);\n",
        "$(element).removeClass('output_javascript').addClass('output_markdown');\n"
       ],
       "metadata": {},
       "output_type": "display_data",
       "text": [
        "<IPython.core.display.Javascript at 0x376a5d0>"
       ]
      }
     ],
     "prompt_number": 39
    },
    {
     "cell_type": "code",
     "collapsed": false,
     "input": [
      "display_js_file(r'..\\code\\maps\\example_web_server_docs\\do_map_setup.js')"
     ],
     "language": "python",
     "metadata": {},
     "outputs": [
      {
       "javascript": [
        "var mdcell = new IPython.MarkdownCell();\n",
        "mdcell.create_element();\n",
        "mdcell.set_text(\"**`..\\\\code\\\\maps\\\\example_web_server_docs\\\\do_map_setup.js`**\\n\\n----\\n\\n```javascript\\n// we expect the following to be globally defined already:\\n/* global\\n    \\n    L: false,\\n    map: false,\\n    jigna: false,\\n    \\n    map_settings: false,\\n    jcb91_setup_map: false,\\n    point_to_latlng: false,\\n    \\n    base_tile_layer: false,\\n    jcb91_popup: false,\\n    stageMarkerLink: false,\\n*/\\n\\n// we define these new globals:\\n/* global    \\n    stageMarker: true,\\n    FoVsize: true,\\n    FoV: true,\\n    overlayMaps: true,    \\n*/\\n\\n// variables to be used by jcb91_setup_map.js\\nvar map_element_id=\\\"map\\\";\\n\\n\\nvar set_map_markers_height = function () {\\n    var map_marker_div = document.getElementById(\\\"map-markers-div\\\");\\n    if (map_marker_div !== null) {\\n        var map_prop_head = document.getElementById(\\\"map-properties-head\\\");\\n        var map_prop_head_height = 10;\\n        if (map_prop_head !== null) {\\n            map_prop_head_height = map_prop_head.offsetHeight;\\n        }\\n        \\n        var map_props = document.getElementById(\\\"map-properties\\\");\\n        var map_props_style = window.getComputedStyle(map_props, null);\\n        var map_props_inner = document.getElementById(\\\"map-properties-inner\\\");\\n        var map_props_inner_style = window.getComputedStyle(map_props_inner, null);\\n        var available_height = parseInt(map_props_style.getPropertyValue(\\\"height\\\")) - parseInt(map_props_inner_style.getPropertyValue(\\\"padding-top\\\")) - parseInt(map_props_inner_style.getPropertyValue(\\\"padding-bottom\\\"));\\n        map_marker_div.style.height = (available_height - map_prop_head_height) + \\\"px\\\";\\n        setTimeout(set_map_markers_height, 300);\\n    }\\n};\\n\\nwindow.onload = function(){\\n    jcb91_setup_map(map_element_id, map_settings);\\n\\n    // redefine grid labelling function\\n    map.canvasTiles.tilePointToLabelCoord = function(tilePoint, zoom) {\\n       // adjust for current zoom, so  that y goes up in +ve y\\n       // direction (tilenumbers go down), add 1 to y tilenumber to\\n       //refer to bottom edge\\n       tilePoint.y = Math.pow(2, zoom) - (tilePoint.y + 1);\\n       var scaleFactor = Math.pow(2, map_settings.max_zoom - zoom);\\n       return new L.point(tilePoint.x * scaleFactor, tilePoint.y * scaleFactor);\\n    };\\n\\n    // map.setView([+6800.00, +23300.00], 16); // x & y reversed for this\\n\\n    overlayMaps = {\\n      // \\\"b\\\"   : L.tileLayer('b/{z}/{x}/{y}.png',tileLayerOpts), // a second tile layer\\n      \\\"grid\\\": map.canvasTiles,\\n    };    \\n\\n    // add markers to layers, adding those to the overlayMaps dict\\n    for (var set_name in map_settings.marker_sets) {\\n      var markerSet = map_settings.marker_sets[set_name];\\n      if (overlayMaps[set_name] === undefined) {\\n        overlayMaps[set_name] = L.layerGroup();\\n      }\\n      for (var markerName in markerSet.markers) {\\n        var newLayer = map.jcb91CreateMarker(markerSet.markers[markerName],\\n                                             markerName, markerSet.opt);\\n        overlayMaps[set_name].addLayer(newLayer);\\n      }\\n      if (!map.hasLayer(overlayMaps[set_name])) {\\n        map.addLayer(overlayMaps[set_name]);\\n      }\\n    }\\n\\n    // functions for showing & hiding layers and groups\\n    var showLayerLink = function(layer) {\\n        L.DomUtil.removeClass(layer.link, 'hidden');\\n    };\\n    var hideLayerLink = function(layer) {\\n        L.DomUtil.addClass(layer.link, 'hidden');\\n    };\\n    var showHideLayerGroup = function(layerGroup, show){\\n        var toggleFcn = show ? showLayerLink : hideLayerLink;\\n        if (layerGroup.eachLayer === undefined) return;\\n        for (var name in overlayMaps){\\n          if (overlayMaps[name] === layerGroup) {\\n            layerGroup.eachLayer(toggleFcn);\\n            break;\\n          }\\n        }\\n    };\\n    var showLayerGroup = function(event) {\\n        showHideLayerGroup(event.layer.layer, true);\\n    };\\n    var hideLayerGroup = function(event) {\\n        showHideLayerGroup(event.layer.layer, false);\\n    };\\n    map.on('overlayadd', showLayerGroup);\\n    map.on('overlayremove', hideLayerGroup);\\n\\n    for (var overlay_name in map_settings.overlay_maps) {\\n        var overlay_obj = map_settings.overlay_maps[overlay_name];\\n        if (overlay_obj.type === \\\"image\\\"){\\n            L.imageOverlay(\\n                overlay_obj.url,\\n                overlay_obj.coords,\\n                overlay_obj.opt).addTo(map);\\n        }\\n    }\\n\\n    // create a layer control\\n    var baseMaps = {\\n        \\\"map\\\" : base_tile_layer\\n    };\\n    \\n    L.control.layers(baseMaps, overlayMaps, {collapsed: false}).addTo(map);\\n    for (var jj in map_settings.layers_to_hide) {\\n        // see http://groups.google.com/forum/#!topic/leaflet-js/WB54bBnQg3U\\n        var layer = overlayMaps[map_settings.layers_to_hide[jj]];\\n        map.removeLayer(layer);\\n        showHideLayerGroup(layer, false);\\n    }\\n    \\n    // fire the last marker's popup\\n    var map_names = Object.keys(overlayMaps);\\n    var last_map = overlayMaps[map_names[map_names.length-1]];\\n    var layer_names = Object.keys(last_map._layers);\\n    var last_layer = last_map._layers[layer_names[layer_names.length-1]];\\n    last_layer.popupfcn();\\n    \\n    if (typeof(jigna) !== 'undefined') {\\n        // add a marker for the jigna stage\\n        var stagepos = new L.point(jigna.models.stage.position.slice(0,2));\\n        var stage_lat_lng = point_to_latlng(stagepos);\\n                \\n        stageMarker = L.circleMarker(\\n            [0,0], {radius: 5, color : '#00f', fillColor: '#00f'});\\n        stageMarker.addTo(map);\\n        stageMarker.setLatLng(stage_lat_lng);\\n        \\n        var arrToLatLng=function(arr){\\n            var point = new L.point(arr);\\n            return point_to_latlng(point);\\n        };\\n        \\n        FoVsize = new L.point([10, 5]);\\n        var bounds = [stagepos.add(FoVsize), stagepos.subtract(FoVsize)];\\n        FoV = L.rectangle(bounds.map(arrToLatLng), {color : '#22f'});\\n        FoV.addTo(map);\\n        \\n        map.panTo(stage_lat_lng);\\n    }\\n    else {\\n        map.panTo(new L.LatLng(6651, 23188));\\n    }\\n    map.setZoom(15);\\n    \\n    try {\\n        set_map_markers_height();\\n    }\\n    catch(err)\\n    {\\n    }\\n};```\");\n",
        "mdcell.render();\n",
        "var text = $(mdcell.element).find('.text_cell_render');\n",
        "$(element).append(text);\n",
        "$(element).removeClass('output_javascript').addClass('output_markdown');\n"
       ],
       "metadata": {},
       "output_type": "display_data",
       "text": [
        "<IPython.core.display.Javascript at 0x376bf90>"
       ]
      }
     ],
     "prompt_number": 46
    }
   ],
   "metadata": {}
  }
 ]
}