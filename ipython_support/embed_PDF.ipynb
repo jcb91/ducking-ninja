{
 "metadata": {
  "name": "",
  "signature": "sha256:5e5b9132bf51abe1b3abd2aa3ff0d31167a84f67f506c450fea28bb91b51487a"
 },
 "nbformat": 3,
 "nbformat_minor": 0,
 "worksheets": [
  {
   "cells": [
    {
     "cell_type": "markdown",
     "metadata": {},
     "source": [
      "Allow display of embedded PDFs by creating a `PDF` `DisplayObject` class, adapted from `IPython.core.display.Image`"
     ]
    },
    {
     "cell_type": "code",
     "collapsed": false,
     "input": [
      "# -*- coding: utf-8 -*-\n",
      "\n",
      "import os.path\n",
      "\n",
      "from IPython.core.display import DisplayObject\n",
      "\n",
      "\n",
      "class PDF(DisplayObject):\n",
      "\n",
      "    _read_flags = 'rb'\n",
      "    \n",
      "    def __init__(self, data=None, url=None, filename=None, embed=None,\n",
      "                 width=None, height=None, unconfined=False, metadata={}):\n",
      "        \"\"\"Create a PDF object given raw data.\n",
      "        When this object is returned by an input cell or passed to the display\n",
      "        function, it will result in the pdf being displayed in the frontend.\n",
      "        Parameters\n",
      "        ----------\n",
      "        data : unicode, str or bytes\n",
      "            The raw image data or a URL or filename to load the data from.\n",
      "            This always results in embedded image data.\n",
      "        url : unicode\n",
      "            A URL to download the data from. If you specify `url=`,\n",
      "            the image data will not be embedded unless you also specify `embed=True`.\n",
      "        filename : unicode\n",
      "            Path to a local file to load the data from.\n",
      "            Images from a file are always embedded.\n",
      "        embed : bool\n",
      "            Should the image data be embedded using a data URI (True) or be\n",
      "            loaded using an <img> tag. Set this to True if you want the image\n",
      "            to be viewable later with no internet connection in the notebook.\n",
      "            Default is `True`, unless the keyword argument `url` is set, then\n",
      "            default value is `False`.\n",
      "            Note that QtConsole is not able to display images if `embed` is set to `False`\n",
      "        width : int\n",
      "            Width to which to constrain the pdf in html\n",
      "        height : int\n",
      "            pixel height to which to constrain the pdf in html\n",
      "        unconfined: bool\n",
      "            Set unconfined=True to disable max-width confinement of the image.\n",
      "        metadata: dict\n",
      "            Specify extra metadata to attach to the image.\n",
      "        Examples\n",
      "        --------\n",
      "        # to come...\n",
      "        \"\"\"\n",
      "        if filename is None and url is None and data is None:\n",
      "            raise ValueError(\"No pdf data found. Expecting filename, url, or data.\")\n",
      "        \n",
      "        self.embed = embed if embed is not None else (url is None)\n",
      "        self.width = width\n",
      "        self.height = height\n",
      "        self.unconfined = unconfined\n",
      "        self.metadata = metadata\n",
      "        super(PDF, self).__init__(data=data, url=url, filename=filename)\n",
      "    \n",
      "    def reload(self):\n",
      "        \"\"\"Reload the raw data from file or URL.\"\"\"\n",
      "        if self.embed:\n",
      "            super(PDF, self).reload()\n",
      "\n",
      "    def _repr_html_(self):\n",
      "        metadata = {'width': '100%'} # default width is 100%\n",
      "        \n",
      "        if self.width:\n",
      "            metadata['width'] = '%dpx' % self.width\n",
      "        if self.height:\n",
      "            metadata['height'] = '%dpx' % self.height\n",
      "        if self.unconfined:\n",
      "            metadata['class'] = 'unconfined'\n",
      "        metadata.update(self.metadata)\n",
      "\n",
      "        if self.embed:\n",
      "            # Embedded pdfs use base64 encoding.\n",
      "            if self.filename is None:\n",
      "                pdf_encoded = self.data\n",
      "            else:\n",
      "                pdf_encoded = self.data.encode('base64')\n",
      "            metadata['src'] = 'data:application/pdf;base64,{}'.format(pdf_encoded)\n",
      "        else:\n",
      "            metadata['src'] = self.url\n",
      "            \n",
      "        metadata = ''.join(\n",
      "            [' {}=\"{}\"'.format(k, v) for k, v in metadata.iteritems()])\n",
      "        # I'd use embed or object rather than the dated iframe tag, but for some\n",
      "        # reason Chrome and Safari no longer render those correctly. See\n",
      "        # https://productforums.google.com/forum/#!topic/chrome/428NG5agplI\n",
      "        return u'<iframe type=\"application/pdf\"{metadata}/></iframe>'.format(\n",
      "            metadata=metadata)"
     ],
     "language": "python",
     "metadata": {},
     "outputs": [],
     "prompt_number": 1
    },
    {
     "cell_type": "markdown",
     "metadata": {},
     "source": [
      "Create a non-embedded PDF display. We have to set the height, or it defaults to about 150px :("
     ]
    },
    {
     "cell_type": "code",
     "collapsed": false,
     "input": [
      "PDF(url=\"http://www.ece.rice.edu/~daniel/262/pdf/lecture08.pdf\", height=500)"
     ],
     "language": "python",
     "metadata": {},
     "outputs": [
      {
       "html": [
        "<iframe type=\"application/pdf\" width=\"100%\" src=\"http://www.ece.rice.edu/~daniel/262/pdf/lecture08.pdf\" height=\"500px\"/></iframe>"
       ],
       "metadata": {},
       "output_type": "pyout",
       "prompt_number": 2,
       "text": [
        "<__main__.PDF at 0x37694d0>"
       ]
      }
     ],
     "prompt_number": 2
    }
   ],
   "metadata": {}
  }
 ]
}